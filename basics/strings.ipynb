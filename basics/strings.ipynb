{
 "cells": [
  {
   "cell_type": "markdown",
   "id": "b392cfeb-f735-4269-9a25-4a1b1389c364",
   "metadata": {},
   "source": [
    "# String Python Syntax Notes\n",
    "## String Basics"
   ]
  },
  {
   "cell_type": "code",
   "execution_count": 2,
   "id": "f4642903-3bff-4439-8c64-f68e9c72c996",
   "metadata": {},
   "outputs": [
    {
     "name": "stdout",
     "output_type": "stream",
     "text": [
      "Hey, I am Soubhik Sen\n",
      "I am Soubhik Sen"
     ]
    }
   ],
   "source": [
    "# A simple string example\n",
    "s = \"I am Soubhik Sen\"  # immutable\n",
    "print(\"Hey, \" + s)      # concatenation\n",
    "print(s, end=\"\")        # printing without newline"
   ]
  },
  {
   "cell_type": "markdown",
   "id": "130565cd-2c78-4b1c-99b2-e0cdfe9ee980",
   "metadata": {},
   "source": [
    "## String Properties & Basic Functions"
   ]
  },
  {
   "cell_type": "code",
   "execution_count": 3,
   "id": "9cfbd125-d3b2-49ae-9250-4ebeb62dbf49",
   "metadata": {},
   "outputs": [
    {
     "name": "stdout",
     "output_type": "stream",
     "text": [
      "456\n",
      "16\n",
      "73\n"
     ]
    }
   ],
   "source": [
    "# Convert an integer to string\n",
    "str_val = str(456)  # returns a string of int/float\n",
    "print(str_val)\n",
    "\n",
    "# Length of string\n",
    "print(len(s))  # returns length of string\n",
    "\n",
    "# ASCII value of first character\n",
    "print(ord(s[0]))  # returns ASCII value of the first character"
   ]
  },
  {
   "cell_type": "markdown",
   "id": "ad6a5913-8ac5-4c2c-9daa-2dabd188ad07",
   "metadata": {},
   "source": [
    "## String Indexing and Slicing"
   ]
  },
  {
   "cell_type": "code",
   "execution_count": 5,
   "id": "1eecc20c-1e22-43a5-ba1e-d16d3ff32b48",
   "metadata": {},
   "outputs": [
    {
     "name": "stdout",
     "output_type": "stream",
     "text": [
      "13\n",
      "I am\n",
      "n\n"
     ]
    }
   ],
   "source": [
    "# Indexing\n",
    "print(s.index(\"Sen\"))  # returns the index of \"Sen\"\n",
    "\n",
    "# Slicing\n",
    "print(s[:4])   # returns 'I am'\n",
    "print(s[-1])   # returns the last character of the string"
   ]
  },
  {
   "cell_type": "markdown",
   "id": "979e9b9e-3be4-4329-8064-fba9272c8100",
   "metadata": {},
   "source": [
    "## String Multiplication and Other Useful Functions"
   ]
  },
  {
   "cell_type": "code",
   "execution_count": 6,
   "id": "15793747-ea35-4a06-9c93-2f8d4a50fe90",
   "metadata": {},
   "outputs": [
    {
     "name": "stdout",
     "output_type": "stream",
     "text": [
      "I am Soubhik SenI am Soubhik SenI am Soubhik Sen\n",
      "0b11\n"
     ]
    }
   ],
   "source": [
    "# Repeat a string n times\n",
    "n = 3\n",
    "print(s * n)   # returns 'I am Soubhik Sen' repeated n times\n",
    "\n",
    "# Binary representation of integer\n",
    "print(bin(n))  # returns binary representation of int n"
   ]
  },
  {
   "cell_type": "markdown",
   "id": "6be7636c-94d8-41c5-adee-60d5d867faf8",
   "metadata": {},
   "source": [
    "## String Case Transformation"
   ]
  },
  {
   "cell_type": "code",
   "execution_count": 7,
   "id": "ace83b1f-c5d1-48db-93df-10a8367f7a06",
   "metadata": {},
   "outputs": [
    {
     "name": "stdout",
     "output_type": "stream",
     "text": [
      "I AM SOUBHIK SEN\n",
      "i am soubhik sen\n"
     ]
    }
   ],
   "source": [
    "# Uppercase and Lowercase\n",
    "print(s.upper())  # returns string in UPPERCASE\n",
    "print(s.lower())  # returns string in lowercase"
   ]
  },
  {
   "cell_type": "code",
   "execution_count": null,
   "id": "b7e59b59-1b3e-40da-95eb-1eea10a4d8e9",
   "metadata": {},
   "outputs": [],
   "source": []
  }
 ],
 "metadata": {
  "kernelspec": {
   "display_name": "Python 3 (ipykernel)",
   "language": "python",
   "name": "python3"
  },
  "language_info": {
   "codemirror_mode": {
    "name": "ipython",
    "version": 3
   },
   "file_extension": ".py",
   "mimetype": "text/x-python",
   "name": "python",
   "nbconvert_exporter": "python",
   "pygments_lexer": "ipython3",
   "version": "3.8.10"
  }
 },
 "nbformat": 4,
 "nbformat_minor": 5
}
